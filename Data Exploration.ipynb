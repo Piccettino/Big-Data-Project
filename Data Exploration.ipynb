{
    "metadata": {
        "kernelspec": {
            "name": "python2-spark20", 
            "display_name": "Python 2 with Spark 2.0", 
            "language": "python"
        }, 
        "language_info": {
            "version": "2.7.11", 
            "name": "python", 
            "mimetype": "text/x-python", 
            "pygments_lexer": "ipython2", 
            "codemirror_mode": {
                "version": 2, 
                "name": "ipython"
            }, 
            "file_extension": ".py", 
            "nbconvert_exporter": "python"
        }
    }, 
    "cells": [
        {
            "metadata": {}, 
            "cell_type": "markdown", 
            "source": "# Big Data Project for Computing Infrastructures course by Francesco Picciotti (matr.854021)\n---\n## Task: Data Analysis and Exploration of Hertfordshire and North London Water Quality  "
        }, 
        {
            "metadata": {
                "collapsed": true
            }, 
            "cell_type": "code", 
            "outputs": [], 
            "execution_count": 1, 
            "source": "import ibmos2spark\nfrom pyspark.sql import SparkSession\nfrom pyspark.mllib.fpm import FPGrowth"
        }, 
        {
            "metadata": {}, 
            "cell_type": "code", 
            "outputs": [
                {
                    "metadata": {}, 
                    "output_type": "execute_result", 
                    "execution_count": 2, 
                    "data": {
                        "text/plain": "[Row(_c0=u'0', @id=u'http://environment.data.gov.uk/water-quality/data/measurement/TH-1111137-0092', sample.samplingPoint=u'http://environment.data.gov.uk/water-quality/id/sampling-point/TH-PBRE9999', sample.samplingPoint.notation=u'TH-PBRE9999', sample.samplingPoint.label=u'BRENT CATCHMENT EFFLUENT N.C.R.S', sample.sampleDateTime=u'2013-04-22T17:30:00', determinand.label=u'COD as O2', determinand.definition=u'Chemical Oxygen Demand :- {COD}', determinand.notation=u'92', resultQualifier.notation=None, result=u'138.0', codedResultInterpretation.interpretation=None, determinand.unit.label=u'mg/l', sample.sampledMaterialType.label=u'RIVER / RUNNING SURFACE WATER', sample.isComplianceSample=u'False', sample.purpose.label=u'UNPLANNED REACTIVE MONITORING FORMAL (POLLUTION INCIDENTS)', sample.samplingPoint.easting=u'500000', sample.samplingPoint.northing=u'7'),\n Row(_c0=u'1', @id=u'http://environment.data.gov.uk/water-quality/data/measurement/TH-1111137-0085', sample.samplingPoint=u'http://environment.data.gov.uk/water-quality/id/sampling-point/TH-PBRE9999', sample.samplingPoint.notation=u'TH-PBRE9999', sample.samplingPoint.label=u'BRENT CATCHMENT EFFLUENT N.C.R.S', sample.sampleDateTime=u'2013-04-22T17:30:00', determinand.label=u'BOD ATU', determinand.definition=u'BOD : 5 Day ATU', determinand.notation=u'85', resultQualifier.notation=None, result=u'64.2', codedResultInterpretation.interpretation=None, determinand.unit.label=u'mg/l', sample.sampledMaterialType.label=u'RIVER / RUNNING SURFACE WATER', sample.isComplianceSample=u'False', sample.purpose.label=u'UNPLANNED REACTIVE MONITORING FORMAL (POLLUTION INCIDENTS)', sample.samplingPoint.easting=u'500000', sample.samplingPoint.northing=u'7')]"
                    }
                }
            ], 
            "execution_count": 2, 
            "source": "# The code was removed by DSX for sharing."
        }, 
        {
            "metadata": {}, 
            "cell_type": "code", 
            "outputs": [
                {
                    "name": "stdout", 
                    "output_type": "stream", 
                    "text": "root\n |-- _c0: string (nullable = true)\n |-- @id: string (nullable = true)\n |-- sample.samplingPoint: string (nullable = true)\n |-- sample.samplingPoint.notation: string (nullable = true)\n |-- sample.samplingPoint.label: string (nullable = true)\n |-- sample.sampleDateTime: string (nullable = true)\n |-- determinand.label: string (nullable = true)\n |-- determinand.definition: string (nullable = true)\n |-- determinand.notation: string (nullable = true)\n |-- resultQualifier.notation: string (nullable = true)\n |-- result: string (nullable = true)\n |-- codedResultInterpretation.interpretation: string (nullable = true)\n |-- determinand.unit.label: string (nullable = true)\n |-- sample.sampledMaterialType.label: string (nullable = true)\n |-- sample.isComplianceSample: string (nullable = true)\n |-- sample.purpose.label: string (nullable = true)\n |-- sample.samplingPoint.easting: string (nullable = true)\n |-- sample.samplingPoint.northing: string (nullable = true)\n\n"
                }
            ], 
            "execution_count": 3, 
            "source": "df_data_1.printSchema()"
        }, 
        {
            "metadata": {}, 
            "cell_type": "markdown", 
            "source": "- **_c0**: It's the row index, thus a progressive number\n- **@id**: URI identifier\n- **sample.samplingPoint**: The URI for making reference to a sampling point\n- **sample.samplingPoint.notation**: A shorten string identifing each sampling point e.g.TH-PBRE9999\n- **sample.samplingPoint.label**: The full name of the sampling point\n- **sample.sampleDateTime**: The date and time when a sample was collected.\n- **determinand.label**: A brief string identifing the determinand sampled, which is the property measured\n- **determinand.definition**: A string describing the determinand meaning, its definition\n- **determinand.notation**: A string which uniquely identifies the determinand\n- **resultQualifier.notation**: This feature can be empty orcontaining \"<\",\">\" stating that is below or above the regulations\n- **result**: The amount of the measured determinand\n- **codedResultInterpretation.interpretation**: It is an empty column\n- **determinand.unit.label**: The unit measure that expresses the **result** field\n- **sample.sampledMaterialType.label**: The kind of material (strech of water, matter, ecc.) from which the determinand is sampled\n- **sample.isComplianceSample**: It is a boolean to indicate whether the sample has been collected for a compliance purpose\n- **sample.purpose.label**: The string describing the kind of the sampling purpose\n- **sample.samplingPoint.easting**: The easting of the point on the British National Grid\n- **sample.samplingPoint.northing**: The northing of the point on the British National Grid"
        }, 
        {
            "metadata": {}, 
            "cell_type": "code", 
            "outputs": [
                {
                    "name": "stdout", 
                    "output_type": "stream", 
                    "text": "The total number of sampling is 361101\n"
                }
            ], 
            "execution_count": 4, 
            "source": "dataRDD = df_data_1.rdd\ndataRDD.cache()\nprint ('The total number of sampling is %d' %dataRDD.count())"
        }, 
        {
            "metadata": {}, 
            "cell_type": "markdown", 
            "source": "## Columns exploration"
        }, 
        {
            "metadata": {}, 
            "cell_type": "code", 
            "outputs": [
                {
                    "name": "stdout", 
                    "output_type": "stream", 
                    "text": "The number of distinct sampling points is 597\n[u'BOURNE BROOK AT RYE STREET', u'HILL HALL STW :THEYDON MOUNT', u'BOBBINGWORTH MILL C/H STW :BOVINGER', u'G.U.C. AT LOT MEAD LOCK', u'HATFIELD QUARRY WM18 LOWER P3 0031/0123', u'NAZEING BROOK ABOVE HOE LANE TRIBUTARY', u'HOUGHTON BROOK BELOW M1, LUTON', u'STREAM FROM ARKLEY SPRING ABOVE LEE CONF', u'BATHING WATER - HAMPSTEAD MIXED POND', u'LEE AT HOLWELL BRIDGE', u'WHITE RODING STW', u'MOGDEN STW ( 24 HR COMPOSITE )', u'RIVERSIDE STW SPOT SAMPLE', u'VER ABOVE COLNE', u'DE SALIS HOTEL STW :ELSENHAM', u'RODING AT WOODFORD BRIDGE', u'HIPPO POOL REED BED T/E', u'BROOKHOUSE BROOK ABOVE FIDDLERS HAMLET S', u'MILL GREEN B/H M7, HATFIELD', u'WALTHAM ABBEY WTW T/E :WALTHAM ABBEY', u'LEE ABOVE STORT', u'LEE NAV SUBSIDIARY B AT KEIDES WEIR', u'RIVERSIDE GARDEN CENTRE STW :HERTFORD', u'SYMONDSHYDE FARM W36 HATFIELD QUARRY', u'CARTERS POND BH, HATFIELD ESTATE', u'BRENT AT UXBRIDGE ROAD, HANWELL', u'LEE NAV AT MARKFIELD RECREATION GROUND', u'FURNEUX PELHAM STW', u'WILLINGALE STW', u'GADE AT GADE WATER NURSERIES', u'THERFIELD STW :CHAPEL GREEN', u'HORNSEY WTW T/E SAMPLE POINT L', u'BRENT AT PRIESTLEY WAY, HENDON', u'THAMES CATCHMENT RIVER N.C.R.S (N)', u'CHING BROOK AT WHITEHALL RD', u'LOXFORD WATER AT ILFORD LANE', u'LT HALLINGBURY BROOK AT GRINSTEAD LANE', u'LEE CATCHMENT RIVER N.C.R.S', u'TAKELEY STW', u'CHESS AT TOWER WATERFALL INTAKE, LATIMER', u'POND B, STANSTED AIRPORT', u'LEE BELOW WHEATHAMSTEAD STW', u'FRAYS ABOVE COLNE', u'WESTWICK HALL FARM BH1105', u'BOYERS FARLOWS LAKE STW :IVER', u'ELLEN BROOK AT A414, HATFIELD', u'SOUTHFIELD WOOD, NEW B/H NR GAS B/H SFW7', u'CLAVERING STW', u'KINGSBURY MILL BYPASS CHANNEL BELOW A414', u'CEGB C/W :IVER', u'LITTLE CANFIELD, LANGTHORNS PLANTERY B/H', u'GT HALLINGBURY BROOK ABOVE STORT', u'NORTH MYMMS PS :NORTH MYMMS', u'G.U.C. UPSTREAM OF LOCK 97', u'SALMON BROOK AT HADLEY RD', u'OLD BOURNE ABOVE DANE END TRIBUTARY AT W', u'WILLMENT M/W :HAREFIELD', u'MOBILE HOME PARK ASHLEIGH PARK STW: BARW', u'HATFIELD LEA VALLEY OBHA', u'ESSENDON HALL STW: ESSENDON', u'BOREHOLE GW10, ST LEONARDS COURT, SANDRI', u'ESSENDON, HATFIELD LONDON COUNTRY CLUB B', u'G.U.C. ABOVE SPRINGWELL LOCK', u'BEDWELL PARK GOLF CLUB STW :ESSENDON', u'GREEN LANES, THE OLD COTTAGE, HATFIELD', u'ALL SOULS FARM PIT T/E :WEXHAM', u'ASHFORD, ASHFORD MANOR GOLF CLUB WELL', u'CLEMENTS FARM STW : BRICKENDON', u'G.U.C. ABOVE BERKHAMSTED STW', u'HEMEL HEMPSTEAD, REDBOURN ROAD EAST B/H', u'NATIONAL GRID STURTS LOCK CABLE C/W :ISL', u'BRADCOTES STW , MOOR GREEN :ARDLEY', u'BALANCING LAGOON ABOVE DISCHARGE WEIR', u\"SANDRIDGE, CAP'S COTTAGE\", u'HEATHROW, BOREHOLE B', u'THORLEY C/H STW', u'MAYES BROOK BELOW WATERSIDE CLOSE', u'HAYES HILL FARM ( LVPA ) STW :WALTHAM AB', u'QUIN AT BRAUGHING BRIDGE', u'COBBINS BROOK AT SEWARDSTONE RD', u'INGREBOURNE AT FROG ISLAND ABOVE THAMES', u'SMALLFORD, B/H BY BLOCK 3 (NORTHERNMOST)', u'RAGS BROOK ABOVE TURNFORD BROOK,CHESHUNT', u'MAYES BROOK AT MAYESBROOK PARK SCREEN', u'G.U.C. ABOVE LOCK 74, HUNTON BRIDGE', u'THEYDON BOIS STW', u'FAIRLOP QUARRY T/E, HAINAULT RD :ROMFORD', u'RIB AT A10 NEW BRIDGE', u'BOREHOLE GW3, ST LEONARDS COURT, SANDRID', u'LEWSEY BROOK BELOW BRAMBLE ROAD, LUTON', u'CLOCKHOUSE LANE PIT AT PUMPHOUSE, BEDFON', u'HORNSEY WTW :HORNSEY', u'HEMEL HEMPSTEAD, KETTLEWELLS FARM B/H', u'LEE ABOVE LUTON ( EAST HYDE ) STW', u'CHAPMORE END STW', u'BH1103 WESTWICK FARM BEHIND BREAKSPEAR H', u'ELSENHAM QUALITY FOODS LTD T/E :ELSENHAM', u'YEADING BROOK EAST ABOVE PRIORS FARM, RU', u'MIMRAM AT CODICOTE BOTTOM', u'TYTTENHANGER GRAVEL PIT :COLNEY HEATH', u'CHESHAM STW', u'DACRES GATE STW :FYFIELD', u'BUNCEFIELD SPECIAL N.C.R.S', u'COLNE BROOK AT WRAYSBURY ROAD', u'NAZEING BROOK BELOW HOE LANE TRIBUTARY', u'SANDRIDGE, B/H NO.3, ST LEONARDS COURT', u'TWYFORD HOUSE STW :BISHOPS STORTFORD', u'G.U.C. ABOVE TOWPATH FOOTBRIDGE, HAREFIE', u'HIGH LAVER BROOK ABOVE CRIPSEY BROOK, MO', u'CLAY LANE WTW T/E :BUSHEY HEATH', u'ON SITE B/H, HOSL EAST NEAR BUND, BUNCEF', u'HOUNSDEN GUTTER AT DEEPDENE COURT', u'LOW MAYNARD RESERVOIR :WALTHAMSTOW', u'LEE AT CARPENTERS RD', u'ENCLOSED WATER / LAKE N.C.R.S (N)', u'DOLLIS BROOK ABOVE MUTTON BROOK, HENDON', u'ALMA ARMS PUBLIC HOUSE STW :NAVESTOCK', u'OLD RIVER CHESS AT LATIMER PARK FARM', u'STORT AT SAWBRIDGEWORTH', u'BRICK KILN BARNS STW :CADDINGTON', u'LEE ABOVE LEA BRIDGE WEIR', u'HENDERSON PLACE STW :EPPING GREEN', u'G.U.C. AT GADEBANK, CROXLEY', u'BH1112 NEAR SOAKAWAY CTL SA4', u'THAMES CATCHMENT INFLUENT N.C.R.S (N)', u'WIDFORD AND WARESIDE STW', u'BEANE ABOVE STEVENAGE BROOK, WATTON AT S', u'HEMEL HEMPSTEAD, BREAKSPEARS B/H', u'COLNE AT HAMPERMILL, OXHEY', u'ESSENDON PLACE (NEW) STW :ESSENDON', u'ROYDON TREATMENT WORKS LAGOON T/E :ROYDO', u'CHERRY WAY STW :HORTON', u'MARCRIS HOUSE NURSING HOME STW :THEYDON', u'SANDRIDGEBURY, SANDRIDGEBURY COURT B/H', u'RODING AT RODING LANE SOUTH, REDBRIDGE', u'BRAUGHING STW', u'WOOD LANE C/H STW :WILLINGALE', u'SALMON BROOK ABOVE DEEPHAMS STW', u'COLNEY HEATH, M10, SLEAPSHYDE OBH', u'INGREBOURNE AT HAROLD COURT RD', u'G.U.C. ( SLOUGH ARM ) AT IVER', u'WESTON STW', u'MEADOW VIEW STW :REDBOURN', u'LEE BELOW HATFILED HYDE BROOK', u'EPPING ( FIDDLERS HAMLET ) STW', u'KINGS MEADS STANDING WATER 50M E OF A10', u\"CHESS AT GREAT WATER 'A' INTAKE ,LATIMER\", u'STORT ABOVE ROYDON AT BRIGGENS', u'SANDRIDGE, B/H NO.5, ST LEONARDS COURT', u'ESSENDON PS :ESSENDON', u'RODING AT REDBRIDGE RD BRIDGE', u'NATIONAL GRID CEGB 1000 X 500MM CABLE C/', u'BARKWAY STW', u'HOGG END LANE BH1101, BUNCEFIELD', u'TURNERSHILL MARSH :FISHERS GREEN', u'CHENIES STW', u'WORMLEYBURY BROOK ABOVE TURNFORD BROOK', u'COLNE ABOVE G.U.C., MAPLE LODGE', u'CRANE ABOVE DUKE OF NORTHUMBERLANDS RIVE', u'BOWYERS WATER :WALTHAM CROSS', u'BISHOPS STORTFORD STW', u'WESTMILL TROUT FARM T/E', u'STORT AT GYPSY LANE', u'BROOKHOUSE BROOK AT BROOKHOUSE', u'STORT ABOVE TWYFORD MILL LOCK', u'ELLEN BROOK U/S OF BALANCING LAGOON, HBP', u'BATHING WATER - HAMPSTEAD LADIES POND', u'HATFIELD QUARRY WM12 LOWER(P2) 0031/0094', u'SYMONDSHYDE FARM W29 HATFIELD QUARRY', u'LEE ABOVE LUTON HOO LAKES', u'0018/0001 WML WAPSEYS WOOD', u'GADE WATER NURSERIES T/E :GREAT GADDESDE', u\"ARCHIBALD DYKE AT CURA'S INLET, GREAT GA\", u'HARPENDEN STW', u'MIMMSHALL BROOK AT WATER END', u'AVELEY NO.2 GROUNDWATER T/E :AVELEY', u'THAMES CATCHMENT EFFLUENT N.C.R.S (N)', u'GORES BROOK AT HORSESHOE SLUICE', u'ROYDON BROOK AT ROYDON LODGE ESTATE', u'COLNE / G.U.C. ABOVE MAPLE LODGE STW', u'SWOT DISCHARGE TO CLOCKHOUSE LANE PIT', u'PANSHANGER QUARRY D/W :HERTFORD', u'LEE CATCHMENT EFFLUENT N.C.R.S', u'COMET WAY B/H5, HATFIELD', u\"KEMPTON PARK WATERWORKS 300MM 'F' T/E :H\", u'STANSTED BROOK AT GYPSY LANE', u'CUFFLEY BROOK AT WHITEWEBBS GOLF COURSE', u'BEANE AT BEANE RD, HERTFORD', u'HATFIELD QUARRY WM13 0031/0017 WML', u'WHITWELL STW', u'SILK STREAM AT SILK BRIDGE, A5, HENDON', u'STRAWBERRY VALE BROOK AT ISLINGTON CEMET', u'HATFIELD ( MILL GREEN ) STW', u'ROM AT B174', u'DUCKETTS LANE C/H STW :GREEN TYE', u'CHESS AT BOIS MILL, CHESHAM', u'DISCHARGE FROM BALANCING LAGOON :HATFIEL', u'BULBOURNE ABOVE G.U.C. AT LOCK 55, BERKH', u'BIO PRODUCTS LABORATORY STW :ALDENHAM', u'LUTON HOO SOUTH LAKE (TOP - BELOW WEIR)', u'THE GLEBE STW :MAGDALEN LAVER', u'STRAWBERRY VALE BROOK AT SEAFIELD RD', u'NAVESTOCK HEATH C/H STW :NAVESTOCK', u'STORT AT CANNONS MILL', u'DAGNALL STW', u'LOWER HATFIELD ROAD, HOLLY COTTAGE, HERT', u'BOREHOLE GW12, TOP OF HOUSE LANE, SANDRI', u'NETHERHALL WORKS INFILL M/W :NAZEING', u'VER BELOW PARK STREET', u'CRIPSEY BROOK AT ONGAR BRIDGE', u'CHING BROOK ABOVE LEE', u'CHESS AT CHENIES', u'PYMMES BROOK AT PARK RD', u'RAJ VILLA RESTAURANT STW :HIGH CROSS', u'HEATH LODGE STW :IVER', u'PINCEY BROOK AT EALING BRIDGE', u'BAYFORDBURY STW :BAYFORD', u'FURZEFIELD LEISURE CENTRE B/H', u'RIVERSIDE STW MIXED FINAL EFFLUENT ( 24', u'BROWNLOW FARM STW :POTTEN END', u'LEE AT WHEATHAMPSTEAD', u'RIB AT WESTMILL', u'ASTONBURY HOUSE STW :ASTON', u'NEW YEARS GREEN BOURNE ABOVE FRAYS', u'LEE BELOW CECIL MILL ADJ HATFIELD LEA VA', u'0018/0047 WML WAPSEYS WOOD', u'SEVEN KINGS WATER AT FAIRLOP LAKE INLET', u'COLNE AT LONDON COLNEY', u'RIB ABOVE WESTMILL TROUT FARM ( INTAKE )', u\"HATFIELD QUARRY 'B' M/W :HATFIELD\", u'PARNDON BROOK ABOVE TODD BROOK', u'WILDACRES STW :NORTHWOOD', u'BATTLEAXES INN STW :ALDENHAM', u'EMMAS WELL, AMWELL LANE', u'WENNINGTON BRANCH SEWER AT AVELEY HALLPS', u'STANDON STW', u'MOSELLE BROOK AT TOTTENHAM CEMETERY', u'BULBOURNE ABOVE GADE', u'SEVEN KINGS WATER AT MUSLIM CEMETARY', u'SUNBURY, HAZELWOOD GOLF CLUB BH :TQ16/55', u'SNAKES HILL C/H STW :NAVESTOCK SIDE', u'CHESS ABOVE CHESHAM S/W', u'COTSWOLD BUSINESS PARK STW :CADDINGTON', u'LEE AT LEA VALLEY RD ( FOR CHINGFORD INT', u'NORTH METROPOLITAN PIT :CHESHUNT', u'FIDDLERS BROOK AT FIDDLERS BRIDGE', u'LEE NAVIGATION SUBSIDARY B ABOVE ENFIELD', u'ST ALBANS, OAKLANDS COLLEGE, BH4', u'STEVENAGE BROOK AT FROGMORE HALL', u'HILL HEAD C/H STW :PERRY GREEN', u'CHING BROOK AT CHINGFORD LANE', u'LONGFORD RIVER AT HIGH STREET, HAMPTON', u'BOREHOLE GW13, HAREFIELD HOUSE, SANDRIDG', u'INGREBOURNE AT A13 BRIDGE', u'BARLEY CLOSE STW :HATFIELD HEATH', u'COLNE ABOVE THAMES', u'MARKYATE STW', u'RODING / INGREBOURNE CATCHMENT RIVER N.C', u'ABBESS RODING STW', u'SUTTONS FARM W24 HATFIELD QUARRY', u'CRIPSEY BROOK AT DELVED BRIDGE', u'GERRARDS CROSS STW', u'NATIONAL GRID FITZROY BRIDGE CABLE C/W :', u'THE HERTFORDSHIRE GOLF & COUNTY CLUB STW', u'SHENLEY HALL STW :SHENLEY', u'GREAT REVEL END FARM B/H :REDBOURN', u'0018/0005 WML WAPSEYS WOOD', u'COTTERED STW', u'BEAM AT HAVERING SLUICE', u'POND D, STANSTED AIRPORT', u'WILLOW COURT STW, SPRINGWELL LANE :RICKM', u'PYMMES BROOK AT PALMERSTON CRESCENT', u'NUTHAMPSTEAD SHOOTING GROUND 402148', u'NATIONAL GRID BONNER HALL BRIDGE CABLE C', u'LEE AT CANNING TOWN BRIDGE', u'HORTON BROOK ABOVE COLNE BROOK', u'RODING ABOVE A406, WOODFORD', u'BEAM AT A13 BRIDGE', u'NORTON MANDEVILLE C/H STW :ONGAR', u'LEE CATCHMENT INFLUENT N.C.R.S', u'TURNFORD BROOK ABOVE SMALL LEE', u'COLNE BELOW TYTTENHANGER', u'GREAT HADHAM GOLF CLUB STW :MUCH HADHAM', u'COLNE / G.U.C. ABOVE BATCHWORTH LOCK', u'BEECHWOOD PARK SCHOOL STW :MARKYATE', u'YEADING BROOK AT NORTH HYDE ROAD, HAYES', u'COAL DEPOT DUST SEPARATOR T/E :WEST DRAY', u'CANONS BROOK BELOW ELIZABETH WAY', u'PINCEY BROOK AT SHEERING BRIDGE', u'MAYES BROOK AT MAYESBROOK PARK NEAR HEPW', u'ASH ABOVE THAMES', u'HATFIELD QUARRY WPG16 0031/0023 WML', u'PYMMES BROOK ABOVE BOUNDS GREEN BROOK', u'TURNFORD BROOK AT PARK LANE PARADISE', u'MARKS WARREN QUARRY T/E :NORTH ROMFORD', u'KIMPTON STW', u'HATFIELD QUARRY WM7 0031/0007 WML', u'HAMELS PARK FARM STW :BUNTINGFORD', u'MULBERRY HOUSE STW :HIGH ONGAR', u'LEE AT STANBOROUGH', u'LEE AT LEAGRAVE', u'CHESS ABOVE COLNE', u'ODYSSEY HEALTH AND FITNESS CLUB STW: KNE', u'0018/0035 WML WAPSEYS WOOD', u'GORHAMBURY, BOW BRIDGE OBH :TL10/113', u'BATHING WATER - THE SERPENTINE', u'NORTH WEALD BROOK BELOW NORTH WEALD STW', u'\"CURA & SONS 1000MM \"\"C\"\" T/E :GREAT GADDES\"', u'CANFIELD QUARRY M/W :LITTLE CANFIELD', u'GADE / G.U.C. AT HUNTON BRIDGE', u'LAKE AT ADMIRALS WALK', u'LAND ADJ STRATFORD FREIGHT TERMINAL T\\\\E:', u'MANUDEN STW', u'GRAND UNION CANAL PADDINGTON ARM CATCHME', u'RODING AT ROMFORD RD, ILFORD', u'SALMON BROOK AT PLEVNA ROAD', u'SANDRIDGE, B/H NO.2, ST LEONARDS COURT', u'REDBOURN, FREELANDS B/H', u'HORNSEY WTW T/E SAMPLE POINT 5', u'TYKESWATER ABOVE COLNE', u'CHINGFORD WTW T/E :ENFIELD', u'WILTON PARK R.A.E.C. STW :BEACONSFIELD', u'VER AT ST MICHAELS BRIDGE ST ALBANS', u'HOSL E B/H1117 NEAR FINAL TREATMENT LAGO', u'DENHAM GOLF CLUB STW :DENHAM GREEN', u'MAYES BROOK AT MAYESBROOK PARK BELOW WOO', u'CROUCHFIELDS STW :CHAPMORE END', u'THE INTERNATIONAL HOTEL, MARSH WALL :LON', u'DANE END STW', u'LITTLE HALLINGBURY STW', u'POND C, STANSTED AIRPORT', u'HORNSEY WTW T/E SAMPLE POINT M', u'CLAVERHAMBURY FARM STW :CLAVERHAMBURY', u'ASH OFF OUDLE LANE, MUCH HADHAM', u'RODING / INGREBOURNE CATCHMENT EFFLUENT', u'POND A, STANSTED AIRPORT', u'UNDERGROUND N.C.R.S (N)', u'WESTMILL FARM STW :WARE', u'STORT AT ROYDON', u'SANDRIDGE, POND OFF HOUSE LANE', u'CHESS AT ROAD BRIDGE, LATIMER', u'ST ALBANS, ORCHARD GARAGE', u'BURY GREEN BOURNE AT DANEBRIDGE NEAR HAD', u'INTERCEPTING DRAIN ABOVE SALMON BROOK', u'BRICKENDEN STW', u'SUTTONS MANOR CLINIC STW :STAPLEFORD', u'MOGDEN STW ( SPOT SAMPLE )', u'BRENTWOOD ( NAGS HEAD LANE ) STW - FILTE', u'HILL END FARM', u'BRIMSDOWN DITCH AT DUCK LEES LANE', u\"LATIMER PARK FARM 'A' T/E :LATIMER\", u'SPOUT LANE DEWATERING LAGOON :STANWELLMO', u'WHITE STUBBS FARM STW :BROXBOURNE', u'CRANE AT NORTHCOTE ROAD, ISLEWORTH', u'DEEPHAMS STW', u'MAYES BROOK AT MAYESBROOK PARK NEAR CLAR', u'SEDIMENT, GORES BROOK AT HORSHOE SLUICE)', u'0018/0006 WML WAPSEYS WOOD', u'STANFORD RIVERS STW', u'BARKWAY PARK GOLF CLUB STW :BARKWAY', u'ELSTREE AERODROME STW :ALDENHAM', u'LADY YORKE PARK STW :IVER', u'NAZEING BROOK AT NAZEING RD', u'WHITINGS SEWER BELOW JENKINS LANE', u'BRENT CATCHMENT RIVER N.C.R.S', u'LEE NAV SUBSIDIARY B ABOVE TOTTENHAM LOC', u'BECKTON STW SPOT SAMPLE', u'BROXBOURNE QUARRY T/E :BROXBOURNE', u'TURNFORD MARSH LAKE :TURNFORD', u'HATFIELD QUARRY WM4 0031/0004 WML', u'ROYDON TREATMENT WORKS T/E, MAINS/BH WAS', u'BURYFIELDS C/H STW :ANSTEY', u'RODING AT ABRIDGE', u'HIGH LEIGH CONFERENCE CENTRE STW :HODDES', u'REDBOURN ROAD BALANCING TANK :HEMEL HEMP', u'ASHLEY GREEN STW', u'SALMON BROOK AT ENFIELD GOLF COURSE', u'BRENT UPSTREAM OF WESTERN AVENUE, ALPERT', u'MAYLANDS BAL. TANK OUTFALL :ST MICHAEL', u'WRAYSBURY RIVER ABOVE COLNE', u'LUTON HOO SOUTH LAKE (BOTTOM)', u'THE NODE STW :CODICOTE', u'LEE AT EAST HYDE RD BRIDGE', u'MORETON STW', u'DUKE OF NORTHUMBERLANDS RIVER AT KIDDS M', u'BARLEY MOW LANE, BARLEY MOW STABLE B/H,', u'LEE AT HACKNEY MARSHES', u'WRAYSBURY NO.1 GRAVEL PIT', u'RIB AT STANDON', u'LEE NAV AT SPRINGHILL', u'COLNE CATCHMENT RIVER N.C.R.S', u'SOUTHRIDGE ANIMAL CENTRE STW :RIDGE', u'RIVERMILL HOUSE C/W :LONDON SW1', u'BRANDS NURSERY B/H, BULLS LANE, BELL BAR', u'BATHING WATER - RUISLIP LIDO', u'STUDHAM STW', u'G.U.C. AT A40, DENHAM', u'HATFIELD QUARRY WM5 0031/0005 WML', u'PARADISE WILDLIFE PARK STW :BROXBOURNE', u'STORT AT SPELLBROOK WEIR', u'BEACONSFIELD MOTORWAY SERVICES STW', u'LUTON HOO ESTATE STW :LUTON', u'BERKHAMSTED STW', u'NATIONAL GRID ST JOHNS WOOD CABLE C/W :S', u'ALDERBOURNE ABOVE COLNE BROOK', u'SYMONDSHYDE FARM W35 HATFIELD QUARRY', u'CHEVERELLS STW :MARKYATE', u'VER BELOW REDBOURNE ROAD (A5183)', u'COLNE 100M BELOW VER', u'BRITISH TELECOM ( BAYNARD HOUSE ) C/W :L', u'MIMRAM AT HERTINGFORDBURY', u'PLAISTOWES FARM OBH', u'BREACHWOOD GREEN STW', u'WORMLEYBURY ESTATE STW :WORMLEY', u'SAINSBURY 760MM T/E :BUNTINGFORD', u'TYTTENHANGAR P/S ( LVWC ) T/E :COLNEY HE', u'BH1113 UPGRADIENT WELL, TANK 12 COMPOUND', u'KING AND TINKER PUBLIC HOUSE STW :ENFIEL', u'COLNE AT BUSHEY MILL LANE, WATFORD', u'BUNTINGFORD STW', u'CRANE CATCHMENT EFFLUENT N.C.R.S', u'ESCOURT DITCH U/S STANSTEAD LOCK CULVERT', u'GREAT GADDESDEN STW', u'PYMMES BROOK R.H. CHANNEL AT FERRY LANE', u'ST EDWARDS COLLEGE STW :TOTTERIDGE', u'SEVEN KINGS WATER AT PAINTER ROAD', u'LEA PIT T/E :DENHAM', u'SANDRIDGE, HAMMONDS, HAMMONDS LANE', u'HEMEL HEMPSTEAD, REDBOURN ROAD SOUTH B/H', u'ASHFORD COMMON WATERWORKS T/E :SUNBURY', u'HEATHROW AIRPORT EASTERN LAGOONS AT OUTL', u'LEE ABOVE WARE LOCK ( FOR NEW GAUGE INTA', u'WALTHAM ABBEY, FOURWAYS NURSERY B/H', u'RIB ABOVE BUNTINGFORD STW', u'PINN ABOVE FRAYS', u'BEANE AT WATTON AT STONE', u'SUTTONS FARM W23 HATFIELD QUARRY', u'SAVOY STREET STORM OVERFLOW', u'GADE AT WATER END', u'SEDIMENT SITE, KEW', u'TYTTENHANGER GRAVEL PIT T/E:COLNEY HEATH', u'CEGB T/E :IVER', u'PENGUIN AND SEAL POOL REED BED T/E', u'INGREBOURNE AT BATES ROAD', u'WRAYSBURY II GRAVEL PIT', u'OSHWAL CENTRE ASSEMBLY HALL STW :NORTHAW', u'WEALDSTONE BROOK AT FOURTH WAY, WEMBLEY', u'LEE AT HERTFORD CASTLE', u'CLARE HOUSE STW :HAREFIELD', u'BOREHOLE GW14, BESIDE JERSEY FARM POND,', u'BATHING WATER - HAMPSTEAD MENS POND', u'PYMMES BROOK AT OSIDGE LANE', u'TEXACO/CHEVRON DEEP B/H, BUNCEFIELD', u'HATFIELD HEATH STW', u'NATIONAL GRID WHARF ROAD CABLE C/W :ISLI', u'HATFIELD QUARRY WM10 LOWER(P2) 0031/0093', u'G.U.C. AT OXFORD ROAD', u'G.U.C. AT DURRANTS HILL ROAD, HEMEL HEMP', u'ASH AT BRIDGE NORTH OF WIDFORD', u'BOREHOLE GW16, WOODSTOCK NURSERIES, HOUS', u'SMALL LEE ABOVE TURKEY BROOK', u'HUDNALL PARK FIELD STUDY CENTRE STW', u'LEE AT MILL GREEN', u'MAYES BROOK ABOVE INLET TO NORTH LAKE AT', u'PINCEY BROOK AT SHEERING HALL', u'CRANE ABOVE EASTERN BALANCING RESERVOIR', u'G.U.C. AT HORTON ROAD BRIDGE', u'BOREHOLE 2, HOSL EAST, BUNCEFIELD', u'HATFIELD QUARRY WM8 0031/0008 WML', u'COPT HALL FARM STW :EAST HYDE', u'TURKEY BROOK ABOVE SMALL RIVER LEE', u'COPTHALL CLOSE C/H STW :HALLINGBURY', u'CRANE CATCHMENT RIVER N.C.R.S', u'SOUTHFIELD WOOD LANDFILL SITE BW0231IH', u'RAVENSBOURNE ( ROM ) AT A125', u'RIB AT BENGEO HALL', u'LEE AT RYE HOUSE', u'AMWELL MARSH STANDING WATER', u'COPPERMILLS WTW :WALTHAMSTOW', u'THORNWOOD STW', u'HOUSING DEVELOPMENT STW :HASTOE', u'MIMRAM AT PANSHANGER', u'HIGH SPEED 1 DEWATERING T/E :STRATFORD', u'VER 215 METRES BELOW ST MICHAELS BRIDGE', u'COLNE CATCHMENT EFFLUENT N.C.R.S', u'LEE NAVIGATION SUB B ABOVE PICKETTS LOCK', u'PYMMES BROOK ABOVE SALMON BROOK', u'TYTTENHANGER HOUSE, COLNEY HEATH', u'BRENT / G.U.C. AT LOCK 100, BRENTFORD', u'GREEN LANE EAST OF SITE NEAR WATER TREAT', u'GAYNES PARK STW :COOPERSALE', u'WHIPSNADE ZOO STW :DUNSTABLE', u'CHERRY GREEN BARNS STW :WESTMILL', u'PYMMES PARK LAKE AT OVERFLOW TO PYMMES B', u'DANE END TRIBUTARY ABOVE BEANE, WOODHALL', u'BECKTON STW MAIN DISCHARGE ( 24 HR COMPO', u'YEADING BROOK WEST AT THE WESTERN AVENUE', u'HEATHROW SOUTHERN BALANCING POND, MIDDLE', u'HOSL W B/H 1120A BETWEEN TANKS 914 & 913', u'PARK STREET, ENTRANCE TO HATFIELD PARK', u'SEVENTY ACRES LAKE :FISHERS GREEN', u'ASH AT EASNEYE', u'RODING WELL PS :REDBRIDGE', u'ST ALBANS, PSDB, WOODCOCK HILL', u'SALMON BROOK ABOVE ENFIELD DITCH', u'COLNE AT GAUGING STATION, DENHAM', u'SOUTHALL SEWER AT WENNINGTON ROAD', u'PYMMES BROOK AT TOTTENHAM HALE', u'PYMMES BROOK L.H. CHANNEL AT FERRY LANE', u'MAYES BROOK AT RIPPLE ROAD', u'SUTTONS FARM WG27 HATFIELD QUARRY', u'HUNTSMAN PUBLIC HOUSE STW :GOOSE GREEN', u'HATFIELD QUARRY WM1 0031/0001 WML', u'VER AT CHEQUER LANE, REDBOURN', u'LEE AT WATERHALL', u'BPA B/H1118 NR S VERGE CHERRY TREE LANE', u'RODING AT PASSINGFORD BRIDGE', u'ETON MANOR NURSERY STW :BUCKHURST HILL', u'BPA B/H 1119 NR S VERGE CHERRY TREE LANE', u'GADE ABOVE G.U.C., RICKMANSWORTH', u'STORT AT BURNT MILL', u'HOUGHTON BROOK AT TODDINGTON RD GARDENS', u'SANDRIDGE, FAIRFOLDS FARM, WOODCOCK HILL', u'ELSENHAM QUARRY BU7081IN', u'STANSTED MOUNTFITCHET STW', u'COLNE BROOK ABOVE THAMES', u'COLNE CATCHMENT INFLUENT N.C.R.S', u'BOREHOLE AT BUSINESS PARK, HATFIELD', u'HEMEL HEMPSTEAD, BOUNDARY WAY B/H', u'BOREHOLE GW11, POUND FARM, SANDRIDGE', u'HOUGHTON BROOK AT LEAGRAVE', u'BRENT AT NEASDEN LANE, WEMBLEY', u'MISBOURNE BELOW GERRARDS CROSS STW', u'FANHAMS HALL ( J SAINSBURY ) STW :WARE', u'RIDGE HOUSE STW :HAREFIELD', u'NATIONAL GRID COPENHAGEN SCHOOL CABLE C/', u'G.U.C. AT TRING', u'WASTE DUMP CODE NORTH EAST AREA', u'ASTWICK MANOR STW :HATFIELD', u'RYE MEADS STW', u'VER AT GORHAMBURY', u'INGREBOURNE AT A12 BRIDGE', u'ROWLEY FARM COMPLEX STW :WEXHAM', u'LEE BELOW HOLWELL BRIDGE', u'LITTLE BERKHAMPSTEAD STW', u'WATFORD LAUNDRY BH :TQ09/016 CHALK', u'TURKEY BROOK AT CLAY HILL', u'THE FIRECREST PUBLIC HOUSE STW :WENDOVER', u'BLACKBIRDS STW :ALDENHAM', u'MUSWELL STREAM ABOVE PYMMES BROOK', u'OAKLANDS LANE, CHESTER NURSERY B/H, SMAL', u'BRENTWOOD ( NAGS HEAD LANE ) STW - LAGOO', u'LEE NAV SUBSIDIARY A AT THREE MILLS LANE', u'BURY GREEN FARM STW ( T/E ) :LITTLE HADH', u'WHITEHILL GOLF CENTRE STW :DANE END', u'CAT BROOK BELOW CATSBROOK ROAD, LUTON', u'HEMEL HEMPSTEAD, LEVERSTOCK GREEN B/H', u'RAANS FARM BARN COMPLEX STW :AMERSHAM', u'ROMAN ROAD, CHALKDELL FARM, WHEATHAMSTEA', u'NORTH WEALD STW', u'RAVENSBOURNE ABOVE HARROW LODGE PARK LAK', u'HATFIELD QUARRY WM3 0031/0003 WML', u'NEW DENHAM STREAM AT LIME WALK, NEW DENH', u'SANDRIDGE, B/H NO.4, ST LEONARDS COURT', u'BLUE HILL FARM STW: WATTON AT STONE', u'WOODREDON HOUSE STW :UPSHIRE', u'LIBURY HALL STW :GREAT MUNDEN', u'G.U.C. 1500M BELOW BERKHAMSTED STW', u'BUTLERS FARM BH1102, BUNCEFIELD', u'MISBOURNE ABOVE GERRARDS CROSS STW', u'LUTON ( EAST HYDE ) STW', u'BRAMFIELD STW', u'G.U.C. AT COPPERMILL LANE, HAREFIELD', u'LEE AT DOBBS WEIR', u'OLD HOUSE FARM STW :TAKELEY', u'CRANE BELOW EASTERN BALANCING RESERVOIR', u'LEADEN RODING STW', u'CHURCH FARM BARNS STW :LITTLE GADDESDEN', u'CADDINGTON STW', u'0018/0004 WML WAPSEYS WOOD', u'SANDRIDGE, NASHES FARM', u'RODING AT LONDON RD BRIDGE', u'ANOOPAM MISSION STW :DENHAM', u'IVER NORTH STW', u'NORTHAW PLACE STW :NORTHAW', u'FRAYS AT PACKET BOAT LANE, UXBRIDGE', u'BAY HORSE PUBLIC HOUSE STW :OLDHALL GREE', u'WHITE HORSE PUBLIC HOUSE STW :COXTIE GRE', u'NORTHAW PARK STW', u'THEOBALDS PARK MANAGEMENT CENTRE STW :EN', u'G.U.C. 200M BELOW STATION FOOTPATH, KING', u'ASH ABOVE ASHFORD COMMON WATERWORKS', u'GREAT HALLINGBURY BROOK ABOVE BISHOP STO', u'MAPLE LODGE STW', u'RODING AT HIGH ONGAR BRIDGE', u'LYNCH MILL SPRING, HODDESDON', u'BRENT CATCHMENT EFFLUENT N.C.R.S']\n"
                }
            ], 
            "execution_count": 5, 
            "source": "sampling_points = dataRDD.map(lambda x: x['sample.samplingPoint.label']).distinct()\nprint ('The number of distinct sampling points is %d' %sampling_points.count())\nprint sampling_points.collect()"
        }, 
        {
            "metadata": {}, 
            "cell_type": "code", 
            "outputs": [
                {
                    "name": "stdout", 
                    "output_type": "stream", 
                    "text": "The number of distinct materials is 26\n[u'RUNNING SURFACE WATER SEDIMENT', u'ANY SEWAGE', u'ANY WATER', u'SURFACE DRAINAGE', u'ANY FISH - NOT INCLUDING FLATFISH - WHOLE ANIMAL', u'ESTUARINE WATER', u'ESTUARY SEDIMENT', u'TRADE EFFLUENT - FRESHWATER RETURNED ABSTRACTED', u'PRECIPITATION', u'FINAL SEWAGE EFFLUENT', u'ANY SOLID/SEDIMENT - UNSPECIFIED', u'ANY TRADE EFFLUENT', u'WASTE - BULK MATERIAL', u'UNCODED', u'ESTUARY SEDIMENT - INTER TIDAL', u'MYTILUS EDULIS - MUSSEL - WHOLE ANIMAL', u'ANY NON-AQUEOUS LIQUID', u'POND / LAKE / RESERVOIR WATER SEDIMENT', u'POND / LAKE / RESERVOIR WATER', u'CANAL WATER', u'GROUNDWATER', u'BOREHOLE GAS', u'ANY LEACHATE', u'RIVER / RUNNING SURFACE WATER', u'STORM SEWER OVERFLOW DISCHARGE', u'CRUDE SEWAGE']\n"
                }
            ], 
            "execution_count": 6, 
            "source": "materials = dataRDD.map(lambda x: x['sample.sampledMaterialType.label']).distinct()\nprint ('The number of distinct materials is %d' %materials.count())\nprint materials.collect()"
        }, 
        {
            "metadata": {}, 
            "cell_type": "markdown", 
            "source": "There are some of those that are repeated!"
        }, 
        {
            "metadata": {}, 
            "cell_type": "code", 
            "outputs": [
                {
                    "name": "stdout", 
                    "output_type": "stream", 
                    "text": "The number of distinct labels is 1043\n[u'Phosphorus-P', u'2-CHLORO-4-N', u'PCB 008 DW', u'nButylbenzne', u'SiO2 Rv', u'OilTypeQual', u'11DiClPropen', u'4MePhen DW', u'Xylene Tot', u'24ClPhen DW', u'2,4-D', u'2,4-D e e', u'1,2 DCP (dw)', u'Dicofol WW', u'PCB 149 DW', u'13DiClBenzDW', u'IsoPropylBen', u'PCB 114 DW', u'phi 2.0-2.5', u'S1 Leach Dil', u'2,4-D ibe', u'Ni BLM Bio', u'Pb Filtered', u'g -HBCDD WW', u'PirimphosEtD', u'Arsenic - As', u'Ethenylbenzn', u'Dtrgt NncSyn', u'BrClMethane', u'Cu Filtered', u'Ind123pyrWWt', u'phi 9.0-9.5', u'Sld Filt@105', u'4Cl3MePhenol', u'12457-3 DW', u'C>10-40', u'NO2 N DW', u'Dry Method', u'Rotenone', u'PBDE 153', u'PCB Con 156', u'Tin - as Sn', u'Num Bathers', u'Drins Dry Wt', u'Co- Filtered', u'1,3,5TCB D', u'Phorate', u'Uranium - U', u'B-[ghi]-pery', u'HCHGamma WWt', u'SecButylbenz', u'Butan1,3Diol', u'PFnonncAcid', u'B-[a]-pyrene', u'phi 4.0-4.5', u'Dimethoate', u'2,4-D bge', u'As LeachDW', u'PropyzamideD', u'B[a]Pyre Lch', u'ColfmF PMF', u'PCB 138 DW', u'Carbophenthn', u'123789-HxCDD', u'DDT Derived', u'B-[k]-fluora', u'Co - Dry Wt', u'phi 7.0-7.5', u'Fluorene', u'Methoxychlor', u'PFdodencAcid', u'C>5-10 DW', u'Cadmium - Cd', u'PBDE 153 DW', u'Dibromomethn', u'PHENTOT WW', u'MST Filter', u'Propan13Diol', u'BWP - Ma', u'Mevinphos', u'Cond @ 25C', u'AtrazindeseD', u'PCB Con 028', u'1,2DiBrClPro', u'2-CHLORO-6-N', u'pH Sld Smpl', u'Se - Dry Wt', u'CHLOR A', u'IsobutyrcAcd', u'Pb Std Leach', u'Heptachlor', u'PhennthrnDWt', u'PBDE 28 DW', u'WethPresTemp', u'1,2,3-Trimet', u'Acenapthylen', u'F Leach24', u'HCH Epsilon', u'Chloride Ion', u'Cl Leach', u'SULPHIDE DW', u'C>7-8 Aro DW', u'Permethrn-cs', u'DPT Cation', u'ClPyrifos DW', u'Dieldrin DWt', u'Neburon', u'Bromobenzene', u'BorholDepBDm', u'1,1Diclethan', u'Sulphide - S', u'B-[e]-pyrene', u'Na Leach', u'PAH Total DW', u'BROMOBENZENE', u'PBDE 99', u'MST Report', u'PCB Con 118', u'1,3DiClPrDW', u'123678HxCDFd', u'HexachlrbnzW', u'Cypermethrin', u'phi 6.0-6.5', u'DimethoatDWT', u'PCB 123 DW', u'pH leachate', u'Tl - Dry Wt', u'F Leach DW', u'12378PeCDDdw', u'Nitrate Filt', u'MetazachlorD', u'CoroneneDW', u'B[b+k]fleneD', u'Canine Mito', u'iDecDiPhPhos', u'BrClMethan', u'Flow l/s', u'Zn LeachDW', u'C>8-10 AliDW', u'12-DCA', u'PCB Con 169', u'1,3 -DICHLOR', u'Benzene DW', u'Iodide Ion', u'Ba Leach', u'Vinclozo DW', u'OP2EO', u'GSF 45-63', u'Mn BLM Bio', u'2,4-D ipe', u'TriphenylPO4', u'Pb LeachDW', u'Coumaphos', u'Oxygen Diss', u'COD as O2', u'1MeNaphth WW', u'MonOctylSn', u'Sulfide Lch', u'Azinphos Myl', u'GSF 11.2 -16', u'Diazinon', u'Sb Leach24', u'PCB 149', u'Transparency', u'PBDE 28', u'24Dichloropl', u'MTBE DW', u'Terbutryne', u'Phenols Mono', u'Carbon DWt%', u'GSF 2.8 - 4', u'2NPhenol DW', u'MR Screen', u'CIS HE WET', u'ICP-MS Semiq', u'OCDF DW', u'Molybdenm-Mo', u'HBCDD', u'BendiocrbDW', u'NPEs', u'StrepF C-MF', u'Bifenox', u'B-(a)-anthra', u'TetClEthene', u'MalathionDWt', u\"DDT (OP')DWt\", u'Metalaxyl', u'WeatherAbnml', u'PCB total DW', u'Dibenz[ah]an', u'NATGRIDREF', u'Zn Std Leach', u'PCB 52 DW', u'Report', u'Se LeachDW', u'PCB 105 DW', u'Bac All', u'BacHF183', u'NapropamideD', u'2,5-Xylenol', u'TBTCationWWT', u'DemetonSMyl', u'CanineMitoCN', u'Chlorfenvphs', u'Perylene', u'Carbon Tet', u'Lithium DWt', u'c-Hept Epox', u'1,2-DCB', u'Clost C-MF', u'ProptmphsDWT', u'1,2DiBrEthan', u'm-Cresol', u'Aldrin', u'PCB 189 DW', u\"2,2' Oxybise\", u'Tellurium', u'CN Free', u'B[ghi]Per Le', u'Phenol', u'Lithium - Li', u'Iprodione', u'Misc Ident', u'Cu Std Leach', u'EthanoicAcid', u'C>5-6 Ali DW', u'Pendimet DW', u'Chloridazon', u\"DDT (OP')\", u'Bac Ruminant', u'Cu - Dry Wt', u'1,3,5-TCB', u'PFundencAcid', u'N Oxid Filt', u'HeptachlrDWt', u'PClBenzene', u'2356TClAnDW', u'PBDE 47 WW', u'CROCIDLITE', u'2,3,5,6-TClT', u'2Cl5NToluene', u'DichlovosDWt', u'PCB 101 DW', u'Endrin DryWt', u'AcenphthnDWt', u'C>10-C40 DW', u'Propachlor', u'IodofenphosD', u'K LeachDW', u'Propetamphos', u'Bupirimate', u'Permeth-c DW', u'As Std Leach', u'Asbest.fbr', u'Dichlobenil', u'DiClMe', u'Beach Sign', u'1,2,4-TCB', u'CyprmthrnDWt', u'Tecnazene', u'2,4,6-T', u'FluorthneDWt', u'ColfmF Conf', u'GSF 1k- 2k', u'Ba Leach24', u'Fenpropimrph', u'PirimiphsEth', u'PCB 156 DW', u'PCSDs', u'2,3,5,6-Tetr', u'2-Ethylphenl', u'C>10-35AliDW', u'PCB Con 170', u'TDE (PP)', u'Boron Leach', u'K - Dry Wt', u'GSF22.4-31.5', u'Vinclozolin', u'DICHLOBENIL', u'245ClPhen DW', u'SO4dis', u'DiBrMethane', u'2346ClPhenDW', u'Aclonifen', u'SO4 Leach', u'Chlorine', u'ATRZ-ETHYL', u'Pb - Dry Wt', u'phi 1.0-1.5', u\"DDE (PP')\", u'PCB 167 DW', u'PBDE 154 WW', u'Leach Method', u'Tot DDTs dw', u'AcenaphteLch', u'ClostS-R PMF', u'ETHOFUMESATE', u'Ind123pyrene', u'ETBE', u'PE - Calc', u'DOC Lch DW', u'B Leach', u'Se- Filtered', u'Sulphate SO4', u'Chlrdn-cs/Z/', u'123TMeBenzDW', u'Mg - Dry Wt', u'PCB Con 008', u'PCB 118 DW', u'Atrazine', u'Fenuron', u'Samp Freq', u'Carbetamide', u'4ClPhenol', u'DBT Cation', u'Triclosan', u'Permethrn-Tr', u'2Chlorophenl', u'IonicBalance', u'Actinolite', u'Chrysene Lch', u'WHOTEQ Low B', u'AcenapthyWW', u'OrthophsFilt', u'V - Filtered', u'HCBD DRY', u'DEPTH B.G.L.', u'17beta E2', u'Phenol D', u'Diclofenac', u'HCHs ABG dw', u'Anthophyllit', u'PCB Con 138', u'FenchlorphsD', u'Mo - Dry Wt', u'OrthoP L DW', u'N-Kjeldahl', u'phi 8.0-8.5', u'pH', u'Cr Hex Filt', u'Vanadium - V', u'BOD ATU', u'MetsulfrnMyl', u'PhennthrnWW', u'Beach Users', u'NonPhe2EthOx', u'Ethion DWT', u'Pyrene WW', u'CPM DRY WT', u'Chrysene DWt', u'NO3 Ext DW', u'PFOS', u'HEXACHLORO 1', u'Colour Filt', u'1,2 -DIBROMO', u'Benzene', u'GSF 31.5-45', u'Linuron', u'PFOS DW', u'Demeton Tot', u'Malathion', u'Prochloraz', u'Cyfluthrin', u'As - DWt', u'Human Mito', u'PCB 169 DW', u'4Cl3NToluene', u'TRICLFLMETHN', u'Isodrin DWt', u'MoistCont30C', u'phi 5.0-5.5', u'Mo LeachDW', u'FenpropimDW', u'F Coli Pre', u'CHLOROMETHAN', u'N Organic', u'NP3EO', u\"DDE (PP')DWt\", u'Phenanthrene', u'AcenphthnWW', u'FluoranthLch', u'1112TetClEtD', u'Ag- Filtered', u'Tot Coli CMF', u'B-(a)-antDWt', u'B-[b]-fluDWt', u'DtrgtAncSyn', u'C>10-40 DW', u'PCB 170 DW', u'PBDE 100 DW', u'CHRYSOTILE', u'GSF 2k-4k', u'PFhexncAcid', u'O Xylene DW', u'FLUORENE', u'Pyrene DWt', u'Pirimicarb', u'MTBE', u'Tremolite', u'In[123cd]P L', u'AcenaphtyLch', u'Demeton Stot', u'phi-1.0--0.5', u'GraphSkewn', u\"TDE (PP')DWt\", u'Ca - Dry Wt', u'Ag - Dry Wt', u'phi -0.5-0.0', u'BROMOFORM dw', u'DeltaMethDW', u'o-Cresol', u'Colour', u'Ca Filtered', u'E.coli C-MF', u'2,4-D m e', u'Zn- Filtered', u'HCHAlpha DWt', u'Iron - as Fe', u'Chromium -Cr', u'ParathionMyl', u'TricresylPO4', u'Quinoxyfen', u'PCB Con 020', u'HBCDD TOT WW', u'HCH Alpha', u'Cr Hexavalnt', u'AtrazindesiD', u'BifenthrinDW', u'GSF 500-999', u'Cu LeachDW', u'Endo-A DW', u'Asbestos', u'1,1Diclethen', u'GSF16-22.4', u'HCHDelta DWt', u'Desmetryne', u'2,2 DCP', u'Sodium - Na', u'NH3 filt N', u'Hardness', u'Alachlor', u'GSF 2.0-2.8', u'B[k]Fluo Lch', u'K- Filtered', u'12378PeCDFdw', u'PCB Con 035', u'HexanoicAcid', u'NH4+FieldDet', u'CyfluthrnDWt', u'Tot Drins(4)', u'Chlorothalnl', u'SO4 Lch DW', u'PCBs', u'ButanoicAcid', u'Glyphosate', u'Zn - Dry Wt', u'123478HxCDFd', u'Cl DW leach', u'NO3 Lch DW', u'VEGFIBRES', u'TriflurlinDW', u'Fluorene DW', u'Se Std Leach', u'GSF  <1', u'Chloroxuron', u'GS Mean', u'Metoxuron', u'TetPTtin Cat', u'S CrReduce', u'HCH Delta', u'1,2 DCE (tr)', u'm-p-Xylene', u'Hexachlorbnz', u'HCH Beta DWt', u'Orthophospht', u'Sld NV@500C', u'PCB Con 101', u'PBDE 100', u'PCB Con 105', u'Clost per-MF', u'Simazine', u'Hg - wet wt', u'C6-10 DW', u'Psize Rpt', u'DOC Leach', u'DB[ah]Anth L', u'AthanthrnDW', u'Fenthion DWt', u'2,4-D be', u'OCDD', u'Nonyl Phenol', u'Endrin', u'Avian Mito', u'1234678HpCDF', u'1234678HpCDD', u'TecnazineDWt', u'CHLORIDE GFC', u'3Chlorotolun', u'Nitrite Filt', u'Desmetryn DW', u'C>8-10 AroDW', u'a -HBCDD WW', u'Bromoform', u'24NPhen DW', u'NonPhenEthOx', u'phi0.5-1.0', u'Rejected', u'PERMETHRIN', u'IsoPr toluen', u'HydrogenDWT%', u'PBDE 99 DW', u'Chloroxuran', u'Mg Filtered', u'EndosulphanA', u'B - Filtered', u'1,3 DCP (tr)', u'FlowRate Max', u'PCB Con 077', u'2,3-Xylenol', u'Pyrene Lch', u'O Diss %sat', u'Glycols', u'2MeNaphthlnW', u'Sample Prep', u'13+14DiMeBen', u'TrietazineDW', u'OptDens@600U', u'SOLVCOSHH', u'N - % DWt', u'phi 3.0-3.5', u'ClostS-R MF', u'14DiClBenzDW', u'EndslphnBDWt', u'Dtgt Cat BAC', u'GSF >63000', u'Na - Dry Wt', u'MISCELLANEOU', u'Isoproturon', u'B-[a]-pyrWW', u'Chloroprophm', u'PBDE 28 WW', u'C Organic DW', u'SulcofuronNa', u'GSF >8000', u'Isovaleric', u'14Dichlrbnzn', u'Beryllium-Be', u'Ni Std Leach', u'Be - Dry Wt', u'4chlortoluen', u'PCB 35 DW', u'Cu BLM Bio', u'PFOS WW', u'Zinc - as Zn', u'Napropamide', u'Biphenyl', u'23Dichloropl', u'EndosulphanB', u'ChlorofrmDWt', u'Cond @ 20C', u'CN Tot Lch', u'Ba - Dry Wt', u'Ammonia(N)', u'Monolinuron', u'B(k)Flnth DW', u'3,4 Xylenol', u'PCB Con 153', u'1,1,1-TCA', u'PBDE 154', u'Pb BLM Bio', u'Cd - Dry Wt', u'Antimony -Sb', u'T-HTEP DRY', u'C>5-7 Aro DW', u'Asbes by FC', u'Fluorene WW', u'Potassium- K', u'Monuron', u'HCHAlpha WWt', u'Selenium -Se', u'PBDE', u'BrDiClmethan', u'Al- Filtered', u'C10-24', u'34DiMePhn DW', u'AMOSITE', u'123478-HxCDD', u'ClPyrphosMe', u'1,3 DCP(cis)', u'Permeth-t DW', u'1,1,1-TCA DW', u'4-nonPhenol', u'As-Filtered', u'Matrix', u'Boron - as B', u'PFheptncAcid', u'112TCEthan', u'Chlortoluron', u'Magnesium-Mg', u'Chloroform', u'Chrysene', u'ANC pH4 DW', u'Strontium-Sr', u'Toluene', u'Propyzamide', u'Temp Water', u'ColourAbnoml', u'TriPT Cation', u'B - Dry Wt', u'MBT Cation', u'PFpentncAcid', u'PrometrynDWt', u'StrontumFilt', u'Chlorobenzen', u'Lcyhal DW', u\"DDE (OP')DWt\", u'Cr - Dry Wt', u'HcarbonOils', u'P - Dry Wt', u\"DDE (OP')\", u'Chloroxylenl', u'TCB Tot', u'11DiClPrpenD', u'Cr Std Leach', u'Cyanide DWt', u'StrepF PMF', u'PCB Con 180', u'PropazineDWT', u'Ni LeachDW', u'4Chlorotolun', u'4 -ISO-PROPY', u'C>10-25 Ali', u'Aldrin DWt', u'Atrazine DWt', u'MevinphosDW', u'22DCPropan', u'PBDE 47 DW', u'Fluoride DWt', u'Sld V @480C', u'Oil & Grease', u'Cyanide - CN', u'Solids <63um', u'Dinoseb DW', u'2chlortoluen', u'Zn AV DRY WT', u'TON Lch DW', u'1,1-Dichloro', u'1122TetClEth', u'TRIALLATE', u'4Cl3MePhen D', u'XYLENE (tot)', u'Oil Mineral', u'4MePentanoAc', u'Nitrogen - N', u'p-Cresol', u'phi 4.5-5.0', u'Sld Filt@180', u'Nitrogen DWt', u'BROMO-DCM', u'NaphthalnLch', u'NH3 Lch DW', u'Psud-a  C-MF', u'PentanoicAcd', u'Na- Filtered', u'o-Xylene', u'Al - Dry Wt', u'Cr- Filtered', u'BenzGHIper W', u'Ba LeachDW', u'Flucofuron', u'pH in-situ', u'phi 1.5-2.0', u'Cd Std Leach', u'GSF4000-7999', u'Foam Visible', u'AvianMito CN', u'PCB Con 31', u'PBDE 153 WW', u'GSF 4 - 5.6', u'C>5-C44 DW', u'Ethan1,2diol', u'Manganse-Mn', u'EtBenzene DW', u'EthofumestDW', u'HCBD WET', u'Pendimethaln', u'TDS Leach DW', u'BWP - O+T', u'b -HBCDD WW', u'Sb LeachDW', u'AzinphsEthyl', u'23478PeCDFdw', u'TON Leach', u'Fluorene Lch', u'Chlrdn-csDWt', u'Cl2 Free', u'2,4-D esters', u'Chlordane-tr', u'Anthracene', u'GS Median', u'Oxytetracycl', u'Dicofol', u'OPEs', u'TOLUENE DW', u'Cd LeachDW', u'PentchlrpDWt', u'GSF 125-249', u'17alpha EE2', u'A/BNeutCapDW', u'B-[b]-fluora', u'ParathionDWt', u'cHeptClEpxDW', u'Mecoprop', u'GSF 5.6 - 8', u'nPropylbenzn', u'Cr LeachDW', u'TDE (OP)', u'HCHDelta WWt', u'12Propandiol', u'NO2 Lch DW', u'12457-2 DW', u'2,4-Xylenol', u'PhenolsMH DW', u'2,4-D ioe', u'TETCLE-DRY', u'GS Kurtosis', u'Pentachlrphl', u'Lithium Filt', u'Site Inspect', u'12457-2', u'BWP - D.M.L.', u'Oil & Grs Vs', u'HCH Beta WWt', u'Chlrdn-trDWt', u'Cyanazine DW', u'CoumaphosDW', u'V - Dry Wt', u'SewageDebris', u'Bicarb HCO3', u\"TDE (OP')DWt\", u'Tot HCHs ABG', u'PCB 180 DW', u'Soil prop', u'Sld V @ 500C', u'PFOA WW', u'135TriMeBenz', u'Dichlorvos', u'Fenthion', u'GSF <20', u'C>6-8 Ali DW', u'2356-TClTA D', u'CHT Cation', u'Iodofenphos', u'Octyl Phenol', u'Copper - Cu', u'NaphthalnDWt', u'Amonia-N DWt', u'phi 2.5-3.0', u'TCB tot dw', u'Mercury - Hg', u'PropanoicAcd', u'TrixylenylPO', u'Prometryn', u'Butan1,4Diol', u'11DClEthan', u'B-[e]-pyrDWt', u'3ClToluenDW', u'Cyanazine', u'Fe - Dry Wt', u'Bact All CN', u'Dry Matter %', u'ColformsPre', u'Phosphate', u'Colfm PMF', u'4Cl2Ntoluene', u'Propranolol', u'PCB Con 052', u'CL-N-Toluens', u'TriazphosDWt', u'Sn - Dry Wt', u'Chlordbrmthn', u'B[a]anth Lch', u'TriBT Cation', u't-Hept Epox', u'Sulphate DWt', u't12DCEe', u'FONOFOS', u'ClEthaneDW', u'1234789HpCDF', u'HCHGamma DWt', u'tBuPhDiPhPO4', u'AznphsMylDWt', u'NaphthalnWW', u'IE Conf', u'Isodrin', u'3,5-Xylenol', u'Ni- Filtered', u'ALK.0.45um', u'Hg LeachDW', u'Cd Filtered', u'LCMS', u'NH3 Leach', u'phi 5.5-6.0', u'Diflurobnzrn', u'2Chlortoluen', u'Pyrene', u'C[cd]pyreneD', u'Bendiocarb', u'Calcium - Ca', u'NO FLOW/SAMP', u'2,3,5,6 TETR', u'TAME', u'Propazine', u'Hg Filtered', u'StrepF Conf', u'Barium - Ba', u'Nickel - Ni', u'Bromate', u'NH3 un-ion', u'Fe- Filt', u'Zn BLM Bio', u'K Leach', u'phi 7.5-8.0', u'1,2,3-TCB', u'SALinsitu', u'Al LeachDW', u'Sb - Dry Wt', u'Fluoride - F', u'Perylene DWt', u'DDT (PP)', u'C>6-10', u'2,6-Xylenol', u'B-[e]-pyrWW', u'PCB 77 DW', u'1,1,1,2 -TET', u'PhenolsSWAD', u'DiOctyl Sn', u'12DCPa', u'GCMS S-Vol', u'Omethoate', u'HCH Beta', u'1,3-DCB', u'OpConds Waiv', u'AnthracenLch', u'PBDE 99 WW', u'Bromide', u'Vinyl Cl DW', u'N Oxd DWt', u'Fenchlorphos', u'PYRENE', u'Aminomethylp', u'Perylene WW', u'Alky pH 4.5', u'TurbidityNTU', u'GCMS Vol Scn', u'TarryResidus', u'Hg - Dry Wt', u'35DiMePhenDW', u'HCB DRY WT', u'phi 8.5-9.0', u'Bentazone', u'B-[k]-fluoWW', u'Demeton-s-Me', u'BTEX DW', u'FenitrthnDWt', u'1,2,4-Trimet', u'PHENOL LCH D', u'Bathers 100m', u'BenzBflu WW', u'phi 6.5-7.0', u'B[b]Fluo Lch', u'ACENAPTHEN', u'PO4 Leach', u'Ibuprofen', u'234678HxCDFd', u'CPHTHN_DRY', u'1122TetClEtD', u'Mn- Filtered', u'OP1EO', u'ChlorfvnpDWt', u'HumanMito CN', u'ResorcinolDW', u'Sr - Dry Wt', u'BWP - O.L.', u'COD Filt-asO', u'ANC pH 7 DW', u'Demeton-S', u'Sort Coeff', u'PCB 126 DW', u'TBTCationDWT', u'3Chlorophenl', u'ChryseneWW', u'Phenol Odour', u'CreDiphenPO4', u'Sld V @400C', u'phi0.0-0.5', u'N Inorganic', u'NP4EO', u'25Dichlrphnl', u'Trichloroeth', u'Pirimiphos M', u'123TriClProp', u'CHLOROPHYLL', u'dB[AH]AntWW', u'Fluoxetine', u'B-[ghi]-pDWt', u'Acenapthen', u'Dieldrin', u'Conductivity', u'PCB 081 DW', u'phi 3.5-4.0', u'Irgarol 1051', u'245Trichlphl', u'nPropylBenzn', u'12Dibromethn', u'BactRumnt CN', u'BactHumanCN', u'1,3 DCP (dw)', u'DiBrClmethan', u'DEHP', u'AcenapthyDW', u'TertButylbnz', u'GSF  <0.98um', u'Fluoranthene', u'BWP - A.B.', u'Add. Matter', u'Phytoplankto', u'Chloride DWt', u'GSF>1000', u'Nitrate-N', u'Nitrite-N', u'ClpyrifosEt', u'Trietazine', u'Methabnzthzn', u'Sld Sus@105C', u'D CONSENT', u'N Oxidised', u'Thallium -Tl', u'Hg Std Leach', u'2378-TCDF DW', u'Fenitrothion', u'PFdecncAcid', u'Parathion', u'Mn - Dry Wt', u'Bromide Ion', u'Na LeachDW', u'PCB 157 DW', u'GSF 62.5-124', u'12DCET_DRY', u'CN Free UDWt', u'PCB 128 DW', u'Fluoranth WW', u'Silver - Ag', u'Mo Leach24', u'1,2 DCE(cis)', u'Ti - Dry Wt', u'Ni - Dry Wt', u'GSF  8 -11.2', u'Ethion', u'Ind123pyrDWt', u'Naphthalene', u'Ba- Filtered', u'123TrClPrDW', u'PBDE 154 DW', u'E.coli Conf', u'CarbonTetDWt', u'2,6-DCP', u'DBNZAH_DRY', u'TRICLE-DRY', u'Carbendazim', u'Fonofos DW', u'Aluminium-Al', u'PhenanthrLch', u\"DDT (PP')DWt\", u'PCB 20 DW', u'Titanium -Ti', u'Diuron', u'HCH Gamma', u'Erythromycin', u'BWP - A.F.', u'MethxychlDWt', u'AnthracenWW', u'HptchlEpxDWt', u'Colfm Conf', u'E.coli PMF', u'TriethylnGly', u'Cobalt - Co', u'PBDE 100 WW', u'Ethylbenzene', u'pFoctanoate', u'B-[a]-antWW', u'PBDE 47', u'HeptachlrWWt', u'3,4 DICHLORO', u'E.coli Pres', u'123789HxCDFd', u'PirimiphsMyl', u'Lipid tot ww', u'Lead - as Pb', u'IE Pres', u'TERBUTRYNd', u'Diazinon DWt', u'Chlorotolurn', u'ParathonMDWt', u'TetBT Cation', u'OestroneE1', u'PFoctncAcid', u'C - Org Filt', u'PFtetdncAcid', u'2378-TCDD DW', u'PCB 128', u'124TMeBenzDW', u'123678-HxCDD', u'PCB 126', u'Cond 20C lea', u'PCB 28 DW', u'Wet Samp Wt', u'Triazophos', u'Simazine DWt', u'Weather Waiv', u'T-HEP WET', u'Asbes Grav.', u'Metazachlor', u'phi 9.5-10.0', u'p-C-o-Cresol', u'GSF 250-499', u'1,1,2 TCE', u'46N2MePhen D', u'STYRENE DW', u'ATRZ-ISOPR', u'Solids @105C', u'Trifluralin', u'Psud-a PMF', u'ptOctylPheno', u'PCB 153 DW', u'HCHEpslnDWT', u'AznphsEylDWt', u'135TMeBenzDW', u'CHLORPROPHAM', u'B-[a]-pyrDWt', u'AnthracenDWt', u'c12DClEthe', u'MINLFIBRES']\n"
                }
            ], 
            "execution_count": 7, 
            "source": "determinands_lab = dataRDD.map(lambda x: x['determinand.label']).distinct() \nprint ('The number of distinct labels is %d' %determinands_lab.count())\nprint determinands_lab.collect()"
        }, 
        {
            "metadata": {}, 
            "cell_type": "code", 
            "outputs": [
                {
                    "name": "stdout", 
                    "output_type": "stream", 
                    "text": "The number of distinct interpretations is 1\n[None]\n"
                }
            ], 
            "execution_count": 8, 
            "source": "interpretations = dataRDD.map(lambda x: x['codedResultInterpretation.interpretation']).distinct()\nprint ('The number of distinct interpretations is %d' %interpretations.count())\nprint interpretations.collect()"
        }, 
        {
            "metadata": {}, 
            "cell_type": "code", 
            "outputs": [
                {
                    "name": "stdout", 
                    "output_type": "stream", 
                    "text": "The number of distinct results is 3\n[None, u'<', u'>']\n"
                }
            ], 
            "execution_count": 9, 
            "source": "results_not = dataRDD.map(lambda x: x['resultQualifier.notation']).distinct() \nprint ('The number of distinct results is %d' %results_not.count())\nprint results_not.collect()"
        }, 
        {
            "metadata": {}, 
            "cell_type": "code", 
            "outputs": [
                {
                    "name": "stdout", 
                    "output_type": "stream", 
                    "text": "The number of distinct purposes is 19\n[u'STATUTORY FAILURES (FOLLOW UPS AT DESIGNATED POINTS)', u'MONITORING  (NATIONAL AGENCY POLICY)', u'PLANNED INVESTIGATION (NATIONAL AGENCY POLICY)', u'ENVIRONMENTAL MONITORING STATUTORY (EU DIRECTIVES)', u'PLANNED INVESTIGATION (LOCAL MONITORING)', u'WASTE MONITORING (FORMAL SAMPLE)', u'COMPLIANCE FORMAL (PERMIT)', u'WATER QUALITY UWWTD MONITORING DATA', u'IPPC/IPC MONITORING (FORMAL SAMPLE)', u'MONITORING  (UK GOVT POLICY - NOT GQA OR RE)', u'STATUTORY FAILURES (FOLLOW UPS AT NON-DESIGNATED POINTS)', u'UNPLANNED REACTIVE MONITORING (POLLUTION INCIDENTS)', u'ENVIRONMENTAL MONITORING (GQA & RE ONLY)', u'WASTE MONITORING (AGENCY AUDIT - PERMIT)', u'WASTE MONITORING (AGENCY INVESTIGATION)', u'COMPLIANCE AUDIT (PERMIT)', u'WATER QUALITY OPERATOR SELF MONITORING COMPLIANCE DATA', u'UNPLANNED REACTIVE MONITORING FORMAL (POLLUTION INCIDENTS)', u'PLANNED FORMAL NON-STATUTORY (PERMIT/ENV MON)']\n"
                }
            ], 
            "execution_count": 10, 
            "source": "purposes = dataRDD.map(lambda x: x['sample.purpose.label']).distinct() \nprint ('The number of distinct purposes is %d' %purposes.count())\nprint purposes.collect()"
        }, 
        {
            "metadata": {
                "collapsed": true
            }, 
            "cell_type": "code", 
            "outputs": [], 
            "execution_count": null, 
            "source": ""
        }, 
        {
            "metadata": {}, 
            "cell_type": "markdown", 
            "source": "### Frequent pollutants\nLet's find the most sampled determinands and in order to focus to forecast the time series regarding one pollutant"
        }, 
        {
            "metadata": {}, 
            "cell_type": "code", 
            "outputs": [], 
            "execution_count": 11, 
            "source": "SamplesDet = dataRDD.map(lambda x: ((x['sample.samplingPoint.notation'], x['sample.sampleDateTime']),\n                       (x['determinand.notation'], x['result']))\n           ).groupByKey().mapValues(list)"
        }, 
        {
            "metadata": {}, 
            "cell_type": "code", 
            "outputs": [], 
            "execution_count": 12, 
            "source": "#Prepare transactions to see the frequent items\ntransactions = SamplesDet.map(lambda x: list(set([el[0] for el in x[1]])))"
        }, 
        {
            "metadata": {
                "collapsed": true
            }, 
            "cell_type": "code", 
            "outputs": [], 
            "execution_count": 13, 
            "source": "#In order to find out the most frequent items, it's used FPGrowth which is a widely known and \n#most optimised algorithm for Frequent Itemset generator \nmodel = FPGrowth.train(transactions, minSupport=0.4, numPartitions=70)\nresult = model.freqItemsets().collect()"
        }, 
        {
            "metadata": {}, 
            "cell_type": "code", 
            "outputs": [
                {
                    "name": "stdout", 
                    "output_type": "stream", 
                    "text": "[FreqItemset(items=[u'111'], freq=17108), FreqItemset(items=[u'61'], freq=12864), FreqItemset(items=[u'61', u'111'], freq=11315), FreqItemset(items=[u'76'], freq=12218), FreqItemset(items=[u'76', u'61'], freq=11685), FreqItemset(items=[u'76', u'111'], freq=11373), FreqItemset(items=[u'9901'], freq=11912), FreqItemset(items=[u'9901', u'76'], freq=11707), FreqItemset(items=[u'9901', u'76', u'61'], freq=11510), FreqItemset(items=[u'9901', u'61'], freq=11600), FreqItemset(items=[u'9901', u'111'], freq=11143), FreqItemset(items=[u'116'], freq=11695), FreqItemset(items=[u'116', u'111'], freq=11224), FreqItemset(items=[u'180'], freq=11129), FreqItemset(items=[u'180', u'116'], freq=11129), FreqItemset(items=[u'180', u'116', u'111'], freq=11129), FreqItemset(items=[u'180', u'111'], freq=11129), FreqItemset(items=[u'9924'], freq=11110), FreqItemset(items=[u'9924', u'76'], freq=11110), FreqItemset(items=[u'9924', u'9901'], freq=11110), FreqItemset(items=[u'9924', u'9901', u'76'], freq=11110)]\n"
                }
            ], 
            "execution_count": 14, 
            "source": "#Most frequent items sampled from this dataset with a minimum support of 40%\nprint(result)"
        }, 
        {
            "metadata": {
                "collapsed": true
            }, 
            "cell_type": "code", 
            "outputs": [], 
            "execution_count": 15, 
            "source": "frequentDeterminands = result"
        }, 
        {
            "metadata": {
                "collapsed": true
            }, 
            "cell_type": "code", 
            "outputs": [], 
            "execution_count": 16, 
            "source": "# Find the name of the given determinand (pollutant)\ndef find(name, attr):\n    found = dataRDD.filter(lambda x: x[attr+\".notation\"]==str(name)).map(lambda x: x[attr+\".label\"]).take(1)\n    return found[0]"
        }, 
        {
            "metadata": {}, 
            "cell_type": "code", 
            "outputs": [
                {
                    "name": "stdout", 
                    "output_type": "stream", 
                    "text": "[([u'Ammonia(N)'], 17108), ([u'pH'], 12864), ([u'pH', u'Ammonia(N)'], 11315), ([u'Temp Water'], 12218), ([u'Temp Water', u'pH'], 11685), ([u'Temp Water', u'Ammonia(N)'], 11373), ([u'O Diss %sat'], 11912), ([u'O Diss %sat', u'Temp Water'], 11707), ([u'O Diss %sat', u'Temp Water', u'pH'], 11510), ([u'O Diss %sat', u'pH'], 11600), ([u'O Diss %sat', u'Ammonia(N)'], 11143), ([u'N Oxidised'], 11695), ([u'N Oxidised', u'Ammonia(N)'], 11224), ([u'Orthophospht'], 11129), ([u'Orthophospht', u'N Oxidised'], 11129), ([u'Orthophospht', u'N Oxidised', u'Ammonia(N)'], 11129), ([u'Orthophospht', u'Ammonia(N)'], 11129), ([u'Oxygen Diss'], 11110), ([u'Oxygen Diss', u'Temp Water'], 11110), ([u'Oxygen Diss', u'O Diss %sat'], 11110), ([u'Oxygen Diss', u'O Diss %sat', u'Temp Water'], 11110)]\n"
                }
            ], 
            "execution_count": 17, 
            "source": "print(map(lambda x: ([find(elem, \"determinand\") for elem in x.items], x.freq), frequentDeterminands))"
        }, 
        {
            "metadata": {}, 
            "cell_type": "markdown", 
            "source": "Therefore the most frequent sampled pollutant is the Ammoniacal Nitrogen as N (Ammonia), which is from food processing waste and harms all the organisms. So the goal is to create a model to forecast the daily quantity of Ammonia."
        }, 
        {
            "metadata": {
                "collapsed": true
            }, 
            "cell_type": "code", 
            "outputs": [], 
            "execution_count": 18, 
            "source": "rdd_ammonia = dataRDD.filter(lambda x: x['determinand.label']==\"Ammonia(N)\").cache()"
        }, 
        {
            "metadata": {}, 
            "cell_type": "markdown", 
            "source": "## Where the Ammonia has been sampled mostly? What a coincidence!"
        }, 
        {
            "metadata": {}, 
            "cell_type": "code", 
            "outputs": [
                {
                    "name": "stdout", 
                    "output_type": "stream", 
                    "text": "15\n[u'SURFACE DRAINAGE', u'ANY WATER', u'ANY SEWAGE', u'ESTUARINE WATER', u'TRADE EFFLUENT - FRESHWATER RETURNED ABSTRACTED', u'FINAL SEWAGE EFFLUENT', u'ANY SOLID/SEDIMENT - UNSPECIFIED', u'ANY TRADE EFFLUENT', u'POND / LAKE / RESERVOIR WATER', u'CANAL WATER', u'GROUNDWATER', u'ANY LEACHATE', u'RIVER / RUNNING SURFACE WATER', u'STORM SEWER OVERFLOW DISCHARGE', u'CRUDE SEWAGE']\n"
                }
            ], 
            "execution_count": 19, 
            "source": "ammonia_locations = rdd_ammonia.map(lambda x: x['sample.sampledMaterialType.label']).distinct()\nprint(ammonia_locations.count())\nprint(ammonia_locations.collect())"
        }, 
        {
            "metadata": {}, 
            "cell_type": "code", 
            "outputs": [
                {
                    "metadata": {}, 
                    "output_type": "execute_result", 
                    "execution_count": 20, 
                    "data": {
                        "text/plain": "[(u'SURFACE DRAINAGE', 215),\n (u'ANY WATER', 14),\n (u'ANY SEWAGE', 20),\n (u'ESTUARINE WATER', 40),\n (u'TRADE EFFLUENT - FRESHWATER RETURNED ABSTRACTED', 23),\n (u'FINAL SEWAGE EFFLUENT', 5129),\n (u'ANY SOLID/SEDIMENT - UNSPECIFIED', 3),\n (u'ANY TRADE EFFLUENT', 229),\n (u'POND / LAKE / RESERVOIR WATER', 134),\n (u'CANAL WATER', 6),\n (u'GROUNDWATER', 178),\n (u'ANY LEACHATE', 20),\n (u'RIVER / RUNNING SURFACE WATER', 11080),\n (u'STORM SEWER OVERFLOW DISCHARGE', 6),\n (u'CRUDE SEWAGE', 12)]"
                    }
                }
            ], 
            "execution_count": 20, 
            "source": "def add(x,y): \n    return x+y\nrdd_ammonia.map(lambda x: (x['sample.sampledMaterialType.label'], 1)).combineByKey(int, add, add).collect()"
        }, 
        {
            "metadata": {}, 
            "cell_type": "markdown", 
            "source": "Last thing to note is where the Ammonia has been sampled most.\n\nBasically it was mostly present in: \n- Sewage effluents (5129 times)\n- River/Running Surface Water (11080 times)\nWhich is the 95% (16209/17108) of the times!\n\nEspecially the presence in the river surface water is meaningful since the Ammonia traces within water may come from:\n- fertilizers\n- food processing waste\n- Industrial wastewater as non-conventional pollutants\n\nThe last two can be both the causes since it implies the presence of Industrial sewage and the first would mean a high concentration of ammonia in the undeground water."
        }
    ], 
    "nbformat_minor": 1, 
    "nbformat": 4
}